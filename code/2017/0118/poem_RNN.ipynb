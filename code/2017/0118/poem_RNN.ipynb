{
 "cells": [
  {
   "cell_type": "code",
   "execution_count": 1,
   "metadata": {
    "collapsed": true
   },
   "outputs": [],
   "source": [
    "import tensorflow as tf\n",
    "import numpy as np"
   ]
  },
  {
   "cell_type": "code",
   "execution_count": 2,
   "metadata": {
    "collapsed": false
   },
   "outputs": [
    {
     "data": {
      "text/plain": [
       "[(\"I'm\", 'filling'), ('out', 'a'), ('filling', 'a'), ('job', 'application')]"
      ]
     },
     "execution_count": 2,
     "metadata": {},
     "output_type": "execute_result"
    }
   ],
   "source": [
    "poem_list = \"\"\"I'm_ filling\n",
    "out_ a\n",
    "filling_ a \n",
    "job_ application\"\"\"\n",
    "\n",
    "poem_list = [(poem.split('_ ')[0].strip(), poem.split('_ ')[1].strip()) for poem in poem_list.split('\\n')]\n",
    "\n",
    "poem_list"
   ]
  },
  {
   "cell_type": "code",
   "execution_count": 3,
   "metadata": {
    "collapsed": false
   },
   "outputs": [],
   "source": [
    "word_list  = [] \n",
    "for (title,poet) in poem_list:\n",
    "    word_list.append(title)\n",
    "    word_list.append(poet)\n",
    "\n",
    "word_dic = {value:index for index, value in enumerate(word_list)}"
   ]
  },
  {
   "cell_type": "code",
   "execution_count": 4,
   "metadata": {
    "collapsed": false
   },
   "outputs": [],
   "source": [
    "title_dic = {title:word_dic[title] for (title, poet) in poem_list}\n",
    "title_index = [title_dic[title] for (title, poet) in poem_list]\n",
    "\n",
    "poet_dic = {poet:word_dic[poet] for (title, poet) in poem_list}\n",
    "poet_index = [poet_dic[poet] for (title, poet) in poem_list]"
   ]
  },
  {
   "cell_type": "code",
   "execution_count": 5,
   "metadata": {
    "collapsed": false
   },
   "outputs": [],
   "source": [
    "poet_name = []\n",
    "\n",
    "for i in poet_index: \n",
    "    for poet, index in poet_dic.items():\n",
    "        if i == index:\n",
    "            poet_name.append(poet)"
   ]
  },
  {
   "cell_type": "code",
   "execution_count": 6,
   "metadata": {
    "collapsed": true
   },
   "outputs": [],
   "source": [
    "# word = 'hell'\n",
    "vocab = set(word_list[:])"
   ]
  },
  {
   "cell_type": "code",
   "execution_count": 7,
   "metadata": {
    "collapsed": false
   },
   "outputs": [
    {
     "data": {
      "text/plain": [
       "[0, 2, 4, 6]"
      ]
     },
     "execution_count": 7,
     "metadata": {},
     "output_type": "execute_result"
    }
   ],
   "source": [
    "title_index"
   ]
  },
  {
   "cell_type": "code",
   "execution_count": 8,
   "metadata": {
    "collapsed": true
   },
   "outputs": [],
   "source": [
    "# x_data\n",
    "x_data = tf.one_hot(title_index, len(vocab), 1.0, 0.0, -1)\n",
    "y_data = tf.one_hot(poet_index, len(vocab), 1.0, 0.0, -1)\n",
    "# x_data"
   ]
  },
  {
   "cell_type": "code",
   "execution_count": 9,
   "metadata": {
    "collapsed": false,
    "scrolled": true
   },
   "outputs": [
    {
     "data": {
      "text/plain": [
       "{\"I'm\": 0, 'filling': 4, 'job': 6, 'out': 2}"
      ]
     },
     "execution_count": 9,
     "metadata": {},
     "output_type": "execute_result"
    }
   ],
   "source": [
    "title_dic"
   ]
  },
  {
   "cell_type": "code",
   "execution_count": 10,
   "metadata": {
    "collapsed": true
   },
   "outputs": [],
   "source": [
    "#Configuration\n",
    "\n",
    "char_vocab_size = len(vocab)\n",
    "rnn_size = char_vocab_size\n",
    "time_step_size = len(title_dic)\n",
    "batch_size = 1"
   ]
  },
  {
   "cell_type": "code",
   "execution_count": 11,
   "metadata": {
    "collapsed": false,
    "scrolled": true
   },
   "outputs": [],
   "source": [
    "# RNN Model\n",
    "# from tensorflow.models.rnn import rnn, rnn_cell\n",
    "\n",
    "one_cell = tf.nn.rnn_cell.BasicRNNCell(rnn_size)\n",
    "rnn_cell = tf.nn.rnn_cell.MultiRNNCell([one_cell]*2)\n",
    "state = tf.zeros([batch_size, rnn_cell.state_size])\n",
    "X_split = tf.split(0, time_step_size, x_data)\n",
    "#_split = tf.split(0, time_step_size, X)\n",
    "outputs, state = tf.nn.rnn(rnn_cell, X_split, state)"
   ]
  },
  {
   "cell_type": "code",
   "execution_count": 12,
   "metadata": {
    "collapsed": false
   },
   "outputs": [
    {
     "name": "stdout",
     "output_type": "stream",
     "text": [
      "[<tf.Tensor 'RNN/MultiRNNCell/Cell1/BasicRNNCell/Tanh:0' shape=(1, 6) dtype=float32>, <tf.Tensor 'RNN/MultiRNNCell_1/Cell1/BasicRNNCell/Tanh:0' shape=(1, 6) dtype=float32>, <tf.Tensor 'RNN/MultiRNNCell_2/Cell1/BasicRNNCell/Tanh:0' shape=(1, 6) dtype=float32>, <tf.Tensor 'RNN/MultiRNNCell_3/Cell1/BasicRNNCell/Tanh:0' shape=(1, 6) dtype=float32>]\n",
      "Tensor(\"RNN/concat_3:0\", shape=(1, 12), dtype=float32)\n"
     ]
    }
   ],
   "source": [
    "print(outputs)\n",
    "print(state)"
   ]
  },
  {
   "cell_type": "code",
   "execution_count": 13,
   "metadata": {
    "collapsed": false
   },
   "outputs": [
    {
     "data": {
      "text/plain": [
       "(6, 4)"
      ]
     },
     "execution_count": 13,
     "metadata": {},
     "output_type": "execute_result"
    }
   ],
   "source": [
    "rnn_size, time_step_size"
   ]
  },
  {
   "cell_type": "code",
   "execution_count": 14,
   "metadata": {
    "collapsed": false
   },
   "outputs": [],
   "source": [
    "logits = tf.reshape(tf.concat(1, outputs), [-1, rnn_size])\n",
    "targets = tf.reshape(poet_index, [-1])\n",
    "weights = tf.ones(time_step_size*batch_size)"
   ]
  },
  {
   "cell_type": "code",
   "execution_count": 15,
   "metadata": {
    "collapsed": false
   },
   "outputs": [],
   "source": [
    "loss = tf.nn.seq2seq.sequence_loss_by_example([logits], [targets], [weights])\n"
   ]
  },
  {
   "cell_type": "code",
   "execution_count": 16,
   "metadata": {
    "collapsed": false
   },
   "outputs": [],
   "source": [
    "cost = tf.reduce_sum(loss) / batch_size\n",
    "train_op = tf.train.RMSPropOptimizer(0.01, 0.9).minimize(cost)"
   ]
  },
  {
   "cell_type": "code",
   "execution_count": 17,
   "metadata": {
    "collapsed": false
   },
   "outputs": [
    {
     "name": "stdout",
     "output_type": "stream",
     "text": [
      "[5 5 1 5] ['a', 'a', 'filling', 'a']\n",
      "[4 5 5 5] ['filling', 'a', 'a', 'a']\n",
      "[4 5 5 5] ['filling', 'a', 'a', 'a']\n",
      "[4 5 5 5] ['filling', 'a', 'a', 'a']\n",
      "[4 5 5 5] ['filling', 'a', 'a', 'a']\n",
      "[4 5 5 5] ['filling', 'a', 'a', 'a']\n",
      "[4 5 5 5] ['filling', 'a', 'a', 'a']\n",
      "[4 5 5 5] ['filling', 'a', 'a', 'a']\n",
      "[4 5 5 5] ['filling', 'a', 'a', 'a']\n",
      "[4 5 5 5] ['filling', 'a', 'a', 'a']\n",
      "[4 5 5 5] ['filling', 'a', 'a', 'a']\n",
      "[4 5 5 5] ['filling', 'a', 'a', 'a']\n",
      "[4 5 5 5] ['filling', 'a', 'a', 'a']\n",
      "[4 5 5 5] ['filling', 'a', 'a', 'a']\n",
      "[4 5 5 5] ['filling', 'a', 'a', 'a']\n",
      "[4 5 5 5] ['filling', 'a', 'a', 'a']\n",
      "[4 5 5 4] ['filling', 'a', 'a', 'filling']\n",
      "[4 5 5 5] ['filling', 'a', 'a', 'a']\n",
      "[4 5 5 3] ['filling', 'a', 'a', 'a']\n",
      "[4 5 5 5] ['filling', 'a', 'a', 'a']\n",
      "[4 5 5 4] ['filling', 'a', 'a', 'filling']\n",
      "[4 5 5 4] ['filling', 'a', 'a', 'filling']\n",
      "[4 5 5 3] ['filling', 'a', 'a', 'a']\n",
      "[4 5 5 4] ['filling', 'a', 'a', 'filling']\n",
      "[4 5 5 5] ['filling', 'a', 'a', 'a']\n"
     ]
    }
   ],
   "source": [
    "#Launch the graph in session\n",
    "\n",
    "with tf.Session() as sess:\n",
    "    tf.initialize_all_variables().run()\n",
    "    for i in range(1000):\n",
    "        sess.run(train_op)\n",
    "        result = sess.run(tf.argmax(logits, 1))\n",
    "        if i%40 == 0:\n",
    "            print(result, [word_list[t] for t in result])\n",
    "\n",
    "        W_val = sess.run(train_op)"
   ]
  },
  {
   "cell_type": "code",
   "execution_count": 18,
   "metadata": {
    "collapsed": false
   },
   "outputs": [
    {
     "data": {
      "text/plain": [
       "[True, True, True, False]"
      ]
     },
     "execution_count": 18,
     "metadata": {},
     "output_type": "execute_result"
    }
   ],
   "source": [
    "[result[i] == poet_index[i] for i in range(len(poet_index))]"
   ]
  },
  {
   "cell_type": "code",
   "execution_count": null,
   "metadata": {
    "collapsed": true
   },
   "outputs": [],
   "source": []
  }
 ],
 "metadata": {
  "kernelspec": {
   "display_name": "Python 3",
   "language": "python",
   "name": "python3"
  },
  "language_info": {
   "codemirror_mode": {
    "name": "ipython",
    "version": 3
   },
   "file_extension": ".py",
   "mimetype": "text/x-python",
   "name": "python",
   "nbconvert_exporter": "python",
   "pygments_lexer": "ipython3",
   "version": "3.4.5"
  }
 },
 "nbformat": 4,
 "nbformat_minor": 0
}
